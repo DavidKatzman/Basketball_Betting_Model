{
 "cells": [
  {
   "cell_type": "markdown",
   "metadata": {},
   "source": [
    "# Install Packages"
   ]
  },
  {
   "cell_type": "code",
   "execution_count": 1,
   "metadata": {},
   "outputs": [],
   "source": [
    "import numpy as np\n",
    "import pandas as pd\n",
    "from sklearn.model_selection import train_test_split\n",
    "from sklearn.linear_model import LinearRegression\n",
    "from sklearn import metrics\n",
    "from sklearn.ensemble import RandomForestRegressor\n",
    "from sklearn.model_selection import GridSearchCV\n",
    "import pickle\n",
    "import xgboost as xgb\n",
    "from scipy import stats"
   ]
  },
  {
   "cell_type": "markdown",
   "metadata": {},
   "source": [
    "# Scraping and Combining SRS DataFrames"
   ]
  },
  {
   "cell_type": "code",
   "execution_count": 2,
   "metadata": {},
   "outputs": [],
   "source": [
    "# from bs4 import BeautifulSoup\n",
    "# import requests"
   ]
  },
  {
   "cell_type": "code",
   "execution_count": 3,
   "metadata": {},
   "outputs": [],
   "source": [
    "# URL = 'https://www.basketball-reference.com/leagues/NBA_2020.html'\n",
    "# page = requests.get(URL)"
   ]
  },
  {
   "cell_type": "code",
   "execution_count": 4,
   "metadata": {},
   "outputs": [],
   "source": [
    "# soup = BeautifulSoup(page.content, 'lxml')"
   ]
  },
  {
   "cell_type": "code",
   "execution_count": 5,
   "metadata": {},
   "outputs": [],
   "source": [
    "# table = soup.find_all('table')[0]"
   ]
  },
  {
   "cell_type": "code",
   "execution_count": 6,
   "metadata": {},
   "outputs": [],
   "source": [
    "# table_rows = table.find_all('tr')"
   ]
  },
  {
   "cell_type": "code",
   "execution_count": 7,
   "metadata": {},
   "outputs": [],
   "source": [
    "# SRS_df = []\n",
    "# iteration = 0\n",
    "# for tr in table_rows:\n",
    "#     if iteration == 0:\n",
    "#         th = tr.find_all('th')\n",
    "#         column_names = [i.text for i in th]\n",
    "#         iteration = 1\n",
    "#     else:\n",
    "#         th = tr.find_all('th')\n",
    "#         td = tr.find_all('td')\n",
    "#         thd = th + td\n",
    "#         row = [i.text for i in thd]\n",
    "#         SRS_df.append(row)\n",
    "# SRS_df = pd.DataFrame.from_records(SRS_df)\n",
    "# SRS_df.columns = column_names\n",
    "# SRS_df.rename({'Eastern Conference': 'Team'}, axis = 1, inplace = True)\n",
    "# SRS_df.drop(['W', 'L', 'W/L%', 'GB', 'PS/G', 'PA/G'], axis = 1, inplace = True)"
   ]
  },
  {
   "cell_type": "code",
   "execution_count": 8,
   "metadata": {},
   "outputs": [],
   "source": [
    "# SRS_df"
   ]
  },
  {
   "cell_type": "code",
   "execution_count": 9,
   "metadata": {},
   "outputs": [],
   "source": [
    "# def fix_team_name(x):\n",
    "#     new_name = x.split(' ')\n",
    "#     new_name[-1] = new_name[-1][:-5]\n",
    "#     if new_name[-1][-1] == \"*\":\n",
    "#         new_name[-1] = new_name[-1][:-1]\n",
    "#     return ' '.join(new_name)\n",
    "#     return new_name"
   ]
  },
  {
   "cell_type": "code",
   "execution_count": 10,
   "metadata": {},
   "outputs": [],
   "source": [
    "# SRS_df['Name'] = SRS_df.apply(lambda row: fix_team_name(row['Team']), axis = 1)"
   ]
  },
  {
   "cell_type": "code",
   "execution_count": 11,
   "metadata": {},
   "outputs": [],
   "source": [
    "# SRS_df['Name'] = SRS_df['Name'].str.strip()"
   ]
  },
  {
   "cell_type": "code",
   "execution_count": 12,
   "metadata": {},
   "outputs": [],
   "source": [
    "# SRS_df.drop(['Team'], axis = 1, inplace = True)"
   ]
  },
  {
   "cell_type": "code",
   "execution_count": 13,
   "metadata": {},
   "outputs": [],
   "source": [
    "# table = soup.find_all('table')[1]"
   ]
  },
  {
   "cell_type": "code",
   "execution_count": 14,
   "metadata": {},
   "outputs": [],
   "source": [
    "# table_rows = table.find_all('tr')"
   ]
  },
  {
   "cell_type": "code",
   "execution_count": 15,
   "metadata": {},
   "outputs": [],
   "source": [
    "# SRS_df_2 = []\n",
    "# iteration = 0\n",
    "# for tr in table_rows:\n",
    "#     if iteration == 0:\n",
    "#         th = tr.find_all('th')\n",
    "#         column_names = [i.text for i in th]\n",
    "#         iteration = 1\n",
    "#     else:\n",
    "#         th = tr.find_all('th')\n",
    "#         td = tr.find_all('td')\n",
    "#         thd = th + td\n",
    "#         row = [i.text for i in thd]\n",
    "#         SRS_df_2.append(row)\n",
    "# SRS_df_2 = pd.DataFrame.from_records(SRS_df_2)\n",
    "# SRS_df_2.columns = column_names\n",
    "# SRS_df_2.rename({'Western Conference': 'Team'}, axis = 1, inplace = True)\n",
    "# SRS_df_2.drop(['W', 'L', 'W/L%', 'GB', 'PS/G', 'PA/G'], axis = 1, inplace = True)"
   ]
  },
  {
   "cell_type": "code",
   "execution_count": 16,
   "metadata": {},
   "outputs": [],
   "source": [
    "# SRS_df_2"
   ]
  },
  {
   "cell_type": "code",
   "execution_count": 17,
   "metadata": {},
   "outputs": [],
   "source": [
    "# def fix_team_name(x):\n",
    "#     new_name = x.split(' ')\n",
    "#     new_name[-1] = new_name[-1][:-5]\n",
    "#     if new_name[-1][-1] == \"*\":\n",
    "#         new_name[-1] = new_name[-1][:-1]\n",
    "#     return ' '.join(new_name)"
   ]
  },
  {
   "cell_type": "code",
   "execution_count": 18,
   "metadata": {},
   "outputs": [],
   "source": [
    "# SRS_df_2['Name'] = SRS_df_2.apply(lambda row: fix_team_name(row['Team']), axis = 1)"
   ]
  },
  {
   "cell_type": "code",
   "execution_count": 19,
   "metadata": {},
   "outputs": [],
   "source": [
    "# SRS_df_2['Name'] = SRS_df_2['Name'].str.strip()"
   ]
  },
  {
   "cell_type": "code",
   "execution_count": 20,
   "metadata": {},
   "outputs": [],
   "source": [
    "# SRS_df_2.drop(['Team'], axis = 1, inplace = True)"
   ]
  },
  {
   "cell_type": "code",
   "execution_count": 21,
   "metadata": {},
   "outputs": [],
   "source": [
    "# SRS_df"
   ]
  },
  {
   "cell_type": "code",
   "execution_count": 22,
   "metadata": {},
   "outputs": [],
   "source": [
    "# SRS_df_final = pd.concat([SRS_df, SRS_df_2])"
   ]
  },
  {
   "cell_type": "code",
   "execution_count": 23,
   "metadata": {},
   "outputs": [],
   "source": [
    "# SRS_df_final.to_csv('SRS.csv')"
   ]
  },
  {
   "cell_type": "markdown",
   "metadata": {},
   "source": [
    "# Combining the Datasets"
   ]
  },
  {
   "cell_type": "code",
   "execution_count": 24,
   "metadata": {},
   "outputs": [],
   "source": [
    "# Oct = pd.read_csv(\"October_Games.csv\")\n",
    "# Nov = pd.read_csv(\"November_Games.csv\")\n",
    "# Dec = pd.read_csv(\"December_Games.csv\")\n",
    "# Jan = pd.read_csv(\"January_Games.csv\")\n",
    "# Feb = pd.read_csv(\"February_Games.csv\")\n",
    "# Mar = pd.read_csv(\"March_Games.csv\")\n",
    "# SRS = pd.read_csv('SRS.csv', index_col = 0)"
   ]
  },
  {
   "cell_type": "code",
   "execution_count": 25,
   "metadata": {},
   "outputs": [],
   "source": [
    "# df_list = [Oct, Nov, Dec, Jan, Feb, Mar]"
   ]
  },
  {
   "cell_type": "code",
   "execution_count": 26,
   "metadata": {},
   "outputs": [],
   "source": [
    "# df = pd.concat(df_list)"
   ]
  },
  {
   "cell_type": "code",
   "execution_count": 27,
   "metadata": {},
   "outputs": [],
   "source": [
    "# df"
   ]
  },
  {
   "cell_type": "code",
   "execution_count": 28,
   "metadata": {},
   "outputs": [],
   "source": [
    "# df.drop(['Date', 'Start (ET)', 'Unnamed: 6', 'Unnamed: 7', 'Attend.', 'Notes'], axis = 1, inplace = True)"
   ]
  },
  {
   "cell_type": "code",
   "execution_count": 29,
   "metadata": {},
   "outputs": [],
   "source": [
    "# df"
   ]
  },
  {
   "cell_type": "code",
   "execution_count": 30,
   "metadata": {},
   "outputs": [],
   "source": [
    "# rename_dict = {'Visitor/Neutral': 'Away', 'PTS': 'Away_PTS', 'Home/Neutral': 'Home', 'PTS.1': 'Home_PTS'}"
   ]
  },
  {
   "cell_type": "code",
   "execution_count": 31,
   "metadata": {},
   "outputs": [],
   "source": [
    "# df.rename(rename_dict, axis = 1, inplace = True)"
   ]
  },
  {
   "cell_type": "code",
   "execution_count": 32,
   "metadata": {},
   "outputs": [],
   "source": [
    "# df"
   ]
  },
  {
   "cell_type": "code",
   "execution_count": 33,
   "metadata": {},
   "outputs": [],
   "source": [
    "# df['Margin'] = df['Away_PTS'] - df['Home_PTS']"
   ]
  },
  {
   "cell_type": "code",
   "execution_count": 34,
   "metadata": {
    "scrolled": true
   },
   "outputs": [],
   "source": [
    "# df.columns"
   ]
  },
  {
   "cell_type": "code",
   "execution_count": 35,
   "metadata": {},
   "outputs": [],
   "source": [
    "# SRS"
   ]
  },
  {
   "cell_type": "code",
   "execution_count": 36,
   "metadata": {},
   "outputs": [],
   "source": [
    "# for index, row in SRS.iterrows():\n",
    "#     print(row['Name'])"
   ]
  },
  {
   "cell_type": "code",
   "execution_count": 37,
   "metadata": {},
   "outputs": [],
   "source": [
    "# def create_team_SRS(x):\n",
    "#     for i, r in SRS.iterrows():\n",
    "#         if r['Name'] == x:\n",
    "#             return r['SRS']"
   ]
  },
  {
   "cell_type": "code",
   "execution_count": 38,
   "metadata": {},
   "outputs": [],
   "source": [
    "# df['Away_SRS'] = df.apply(lambda row: create_team_SRS(row['Away']), axis = 1)"
   ]
  },
  {
   "cell_type": "code",
   "execution_count": 39,
   "metadata": {},
   "outputs": [],
   "source": [
    "# df['Home_SRS'] = df.apply(lambda row: create_team_SRS(row['Home']), axis = 1)"
   ]
  },
  {
   "cell_type": "code",
   "execution_count": 40,
   "metadata": {},
   "outputs": [],
   "source": [
    "# df"
   ]
  },
  {
   "cell_type": "code",
   "execution_count": 41,
   "metadata": {},
   "outputs": [],
   "source": [
    "# df.to_csv('Final_Dataset_Simple_Model.csv')"
   ]
  },
  {
   "cell_type": "markdown",
   "metadata": {},
   "source": [
    "# Only SRS"
   ]
  },
  {
   "cell_type": "markdown",
   "metadata": {},
   "source": [
    "## Train-Test Split"
   ]
  },
  {
   "cell_type": "code",
   "execution_count": 42,
   "metadata": {},
   "outputs": [],
   "source": [
    "df = pd.read_csv('Final_Dataset_Simple_Model.csv')\n",
    "df.drop(['Unnamed: 0'], axis = 1, inplace = True)"
   ]
  },
  {
   "cell_type": "code",
   "execution_count": 43,
   "metadata": {},
   "outputs": [
    {
     "data": {
      "text/html": [
       "<div>\n",
       "<style scoped>\n",
       "    .dataframe tbody tr th:only-of-type {\n",
       "        vertical-align: middle;\n",
       "    }\n",
       "\n",
       "    .dataframe tbody tr th {\n",
       "        vertical-align: top;\n",
       "    }\n",
       "\n",
       "    .dataframe thead th {\n",
       "        text-align: right;\n",
       "    }\n",
       "</style>\n",
       "<table border=\"1\" class=\"dataframe\">\n",
       "  <thead>\n",
       "    <tr style=\"text-align: right;\">\n",
       "      <th></th>\n",
       "      <th>Away</th>\n",
       "      <th>Away_PTS</th>\n",
       "      <th>Home</th>\n",
       "      <th>Home_PTS</th>\n",
       "      <th>Margin</th>\n",
       "      <th>Away_SRS</th>\n",
       "      <th>Home_SRS</th>\n",
       "    </tr>\n",
       "  </thead>\n",
       "  <tbody>\n",
       "    <tr>\n",
       "      <td>0</td>\n",
       "      <td>New Orleans Pelicans</td>\n",
       "      <td>122</td>\n",
       "      <td>Toronto Raptors</td>\n",
       "      <td>130</td>\n",
       "      <td>-8</td>\n",
       "      <td>0.30</td>\n",
       "      <td>5.88</td>\n",
       "    </tr>\n",
       "    <tr>\n",
       "      <td>1</td>\n",
       "      <td>Los Angeles Lakers</td>\n",
       "      <td>102</td>\n",
       "      <td>Los Angeles Clippers</td>\n",
       "      <td>112</td>\n",
       "      <td>-10</td>\n",
       "      <td>7.75</td>\n",
       "      <td>6.74</td>\n",
       "    </tr>\n",
       "    <tr>\n",
       "      <td>2</td>\n",
       "      <td>Chicago Bulls</td>\n",
       "      <td>125</td>\n",
       "      <td>Charlotte Hornets</td>\n",
       "      <td>126</td>\n",
       "      <td>-1</td>\n",
       "      <td>-3.81</td>\n",
       "      <td>-6.88</td>\n",
       "    </tr>\n",
       "    <tr>\n",
       "      <td>3</td>\n",
       "      <td>Detroit Pistons</td>\n",
       "      <td>119</td>\n",
       "      <td>Indiana Pacers</td>\n",
       "      <td>110</td>\n",
       "      <td>9</td>\n",
       "      <td>-4.22</td>\n",
       "      <td>1.61</td>\n",
       "    </tr>\n",
       "    <tr>\n",
       "      <td>4</td>\n",
       "      <td>Cleveland Cavaliers</td>\n",
       "      <td>85</td>\n",
       "      <td>Orlando Magic</td>\n",
       "      <td>94</td>\n",
       "      <td>-9</td>\n",
       "      <td>-7.57</td>\n",
       "      <td>-0.85</td>\n",
       "    </tr>\n",
       "    <tr>\n",
       "      <td>...</td>\n",
       "      <td>...</td>\n",
       "      <td>...</td>\n",
       "      <td>...</td>\n",
       "      <td>...</td>\n",
       "      <td>...</td>\n",
       "      <td>...</td>\n",
       "      <td>...</td>\n",
       "    </tr>\n",
       "    <tr>\n",
       "      <td>966</td>\n",
       "      <td>Los Angeles Clippers</td>\n",
       "      <td>131</td>\n",
       "      <td>Golden State Warriors</td>\n",
       "      <td>107</td>\n",
       "      <td>24</td>\n",
       "      <td>6.74</td>\n",
       "      <td>-7.92</td>\n",
       "    </tr>\n",
       "    <tr>\n",
       "      <td>967</td>\n",
       "      <td>Detroit Pistons</td>\n",
       "      <td>106</td>\n",
       "      <td>Philadelphia 76ers</td>\n",
       "      <td>124</td>\n",
       "      <td>-18</td>\n",
       "      <td>-4.22</td>\n",
       "      <td>2.22</td>\n",
       "    </tr>\n",
       "    <tr>\n",
       "      <td>968</td>\n",
       "      <td>New York Knicks</td>\n",
       "      <td>136</td>\n",
       "      <td>Atlanta Hawks</td>\n",
       "      <td>131</td>\n",
       "      <td>5</td>\n",
       "      <td>-6.55</td>\n",
       "      <td>-7.57</td>\n",
       "    </tr>\n",
       "    <tr>\n",
       "      <td>969</td>\n",
       "      <td>Charlotte Hornets</td>\n",
       "      <td>109</td>\n",
       "      <td>Miami Heat</td>\n",
       "      <td>98</td>\n",
       "      <td>11</td>\n",
       "      <td>-6.88</td>\n",
       "      <td>2.58</td>\n",
       "    </tr>\n",
       "    <tr>\n",
       "      <td>970</td>\n",
       "      <td>Denver Nuggets</td>\n",
       "      <td>97</td>\n",
       "      <td>Dallas Mavericks</td>\n",
       "      <td>113</td>\n",
       "      <td>-16</td>\n",
       "      <td>3.02</td>\n",
       "      <td>5.84</td>\n",
       "    </tr>\n",
       "  </tbody>\n",
       "</table>\n",
       "<p>971 rows × 7 columns</p>\n",
       "</div>"
      ],
      "text/plain": [
       "                     Away  Away_PTS                   Home  Home_PTS  Margin  \\\n",
       "0    New Orleans Pelicans       122        Toronto Raptors       130      -8   \n",
       "1      Los Angeles Lakers       102   Los Angeles Clippers       112     -10   \n",
       "2           Chicago Bulls       125      Charlotte Hornets       126      -1   \n",
       "3         Detroit Pistons       119         Indiana Pacers       110       9   \n",
       "4     Cleveland Cavaliers        85          Orlando Magic        94      -9   \n",
       "..                    ...       ...                    ...       ...     ...   \n",
       "966  Los Angeles Clippers       131  Golden State Warriors       107      24   \n",
       "967       Detroit Pistons       106     Philadelphia 76ers       124     -18   \n",
       "968       New York Knicks       136          Atlanta Hawks       131       5   \n",
       "969     Charlotte Hornets       109             Miami Heat        98      11   \n",
       "970        Denver Nuggets        97       Dallas Mavericks       113     -16   \n",
       "\n",
       "     Away_SRS  Home_SRS  \n",
       "0        0.30      5.88  \n",
       "1        7.75      6.74  \n",
       "2       -3.81     -6.88  \n",
       "3       -4.22      1.61  \n",
       "4       -7.57     -0.85  \n",
       "..        ...       ...  \n",
       "966      6.74     -7.92  \n",
       "967     -4.22      2.22  \n",
       "968     -6.55     -7.57  \n",
       "969     -6.88      2.58  \n",
       "970      3.02      5.84  \n",
       "\n",
       "[971 rows x 7 columns]"
      ]
     },
     "execution_count": 43,
     "metadata": {},
     "output_type": "execute_result"
    }
   ],
   "source": [
    "df"
   ]
  },
  {
   "cell_type": "code",
   "execution_count": 44,
   "metadata": {},
   "outputs": [],
   "source": [
    "X = df.drop(['Away', 'Away_PTS', 'Home', 'Home_PTS', 'Margin'], axis = 1)\n",
    "y = df['Margin']"
   ]
  },
  {
   "cell_type": "code",
   "execution_count": 45,
   "metadata": {},
   "outputs": [],
   "source": [
    "X_train, X_test, y_train, y_test = train_test_split(X, y, test_size=0.25, random_state=23)"
   ]
  },
  {
   "cell_type": "code",
   "execution_count": 46,
   "metadata": {},
   "outputs": [],
   "source": [
    "train = pd.concat([X_train, y_train], axis=1)\n",
    "target = 'Margin'\n",
    "predictors = [x for x in train.columns if x not in [target]]"
   ]
  },
  {
   "cell_type": "markdown",
   "metadata": {},
   "source": [
    "## Simple Linear Model "
   ]
  },
  {
   "cell_type": "code",
   "execution_count": 47,
   "metadata": {},
   "outputs": [
    {
     "name": "stdout",
     "output_type": "stream",
     "text": [
      "11.959904910044557\n"
     ]
    }
   ],
   "source": [
    "reg = LinearRegression().fit(X_train, y_train)\n",
    "lin_preds = reg.predict(X_test)\n",
    "print(np.sqrt(metrics.mean_squared_error(y_test, lin_preds)))"
   ]
  },
  {
   "cell_type": "markdown",
   "metadata": {},
   "source": [
    "## Random Forest Regressor"
   ]
  },
  {
   "cell_type": "code",
   "execution_count": 48,
   "metadata": {},
   "outputs": [],
   "source": [
    "# rf = RandomForestRegressor()"
   ]
  },
  {
   "cell_type": "code",
   "execution_count": 49,
   "metadata": {},
   "outputs": [],
   "source": [
    "# param_dist = {'n_estimators': [100, 200, 300, 400, 500, 600, 700, 800, 900, 1000],\n",
    "#               'max_features': ['auto', 'sqrt'],\n",
    "#               'max_depth' : [3,4,5,6,7],\n",
    "#               'min_samples_leaf': [1, 2, 4],\n",
    "#               'min_samples_split' : [2, 5, 10],\n",
    "#               'bootstrap' : [True, False]\n",
    "#              }"
   ]
  },
  {
   "cell_type": "code",
   "execution_count": 50,
   "metadata": {},
   "outputs": [],
   "source": [
    "# gsearch = GridSearchCV(\n",
    "#     estimator = rf,\n",
    "#     param_grid = param_dist, \n",
    "#     n_jobs=-1,\n",
    "#     verbose=1,\n",
    "#     iid=False, \n",
    "#     cv=5)"
   ]
  },
  {
   "cell_type": "code",
   "execution_count": 51,
   "metadata": {},
   "outputs": [],
   "source": [
    "# gsearch.fit(train[predictors],train[target])"
   ]
  },
  {
   "cell_type": "code",
   "execution_count": 52,
   "metadata": {},
   "outputs": [],
   "source": [
    "# rf_preds = gsearch.best_estimator_.predict(X_test)\n",
    "# print(np.sqrt(metrics.mean_squared_error(y_test, rf_preds)))"
   ]
  },
  {
   "cell_type": "code",
   "execution_count": 53,
   "metadata": {},
   "outputs": [],
   "source": [
    "# rf = 'rf.sav'\n",
    "# pickle.dump(gsearch, open(rf, 'wb'))"
   ]
  },
  {
   "cell_type": "code",
   "execution_count": 54,
   "metadata": {},
   "outputs": [],
   "source": [
    "rf = 'rf.sav'\n",
    "rf_model = pickle.load(open(rf, 'rb'))"
   ]
  },
  {
   "cell_type": "code",
   "execution_count": 55,
   "metadata": {},
   "outputs": [
    {
     "name": "stdout",
     "output_type": "stream",
     "text": [
      "12.314616697138552\n"
     ]
    }
   ],
   "source": [
    "rf_preds = rf_model.predict(X_test)\n",
    "print(np.sqrt(metrics.mean_squared_error(y_test, rf_preds)))"
   ]
  },
  {
   "cell_type": "markdown",
   "metadata": {},
   "source": [
    "## xgBoost"
   ]
  },
  {
   "cell_type": "code",
   "execution_count": 56,
   "metadata": {},
   "outputs": [],
   "source": [
    "# xgb = xgb.XGBRegressor()"
   ]
  },
  {
   "cell_type": "code",
   "execution_count": 57,
   "metadata": {},
   "outputs": [],
   "source": [
    "# param_dist = {'n_estimators': [100, 300, 500, 700, 900],\n",
    "#               'learning_rate': [.001, .01, .1, 1],\n",
    "#               'max_depth': [1, 2, 3, 4, 5],\n",
    "#               'colsample_bytree': [.8, .9],\n",
    "#               'min_child_weight': [1, 2, 3, 4, 5]\n",
    "#              }"
   ]
  },
  {
   "cell_type": "code",
   "execution_count": 58,
   "metadata": {},
   "outputs": [],
   "source": [
    "# gsearch = GridSearchCV(\n",
    "#     estimator = xgb,\n",
    "#     param_grid = param_dist, \n",
    "#     n_jobs=-1,\n",
    "#     verbose=1,\n",
    "#     iid=False, \n",
    "#     cv=5)"
   ]
  },
  {
   "cell_type": "code",
   "execution_count": 59,
   "metadata": {},
   "outputs": [],
   "source": [
    "# gsearch.fit(train[predictors],train[target])"
   ]
  },
  {
   "cell_type": "code",
   "execution_count": 60,
   "metadata": {},
   "outputs": [],
   "source": [
    "# xgb_preds = gsearch.best_estimator_.predict(X_test)\n",
    "# print(np.sqrt(metrics.mean_squared_error(y_test, xgb_preds)))"
   ]
  },
  {
   "cell_type": "code",
   "execution_count": 61,
   "metadata": {},
   "outputs": [],
   "source": [
    "# xgb = 'xgb.sav'\n",
    "# pickle.dump(gsearch, open(xgb, 'wb'))"
   ]
  },
  {
   "cell_type": "code",
   "execution_count": 62,
   "metadata": {},
   "outputs": [
    {
     "name": "stdout",
     "output_type": "stream",
     "text": [
      "[16:20:58] WARNING: src/objective/regression_obj.cu:152: reg:linear is now deprecated in favor of reg:squarederror.\n"
     ]
    }
   ],
   "source": [
    "xgbm = 'xgb.sav'\n",
    "xgb_model = pickle.load(open(xgbm, 'rb'))"
   ]
  },
  {
   "cell_type": "code",
   "execution_count": 63,
   "metadata": {},
   "outputs": [
    {
     "name": "stdout",
     "output_type": "stream",
     "text": [
      "12.056629000681445\n"
     ]
    }
   ],
   "source": [
    "xgb_preds = xgb_model.predict(X_test)\n",
    "print(np.sqrt(metrics.mean_squared_error(y_test, xgb_preds)))"
   ]
  },
  {
   "cell_type": "markdown",
   "metadata": {},
   "source": [
    "# Adding All Statistics"
   ]
  },
  {
   "cell_type": "code",
   "execution_count": 64,
   "metadata": {},
   "outputs": [],
   "source": [
    "# TPG = pd.read_csv(\"Team_Per_Game_Stats.csv\")\n",
    "# OPG = pd.read_csv(\"Opponent_Per_Game_Stats.csv\")\n",
    "# M = pd.read_csv(\"Misc_Stats.csv\")"
   ]
  },
  {
   "cell_type": "code",
   "execution_count": 65,
   "metadata": {},
   "outputs": [],
   "source": [
    "# TPG"
   ]
  },
  {
   "cell_type": "code",
   "execution_count": 66,
   "metadata": {},
   "outputs": [],
   "source": [
    "# TPG.columns"
   ]
  },
  {
   "cell_type": "code",
   "execution_count": 67,
   "metadata": {},
   "outputs": [],
   "source": [
    "# TPG.drop(['Rk', 'G', 'MP', 'FG', 'FGA', 'FG%', '3PA', '2PA', 'FTA', 'TRB'], axis = 1, inplace = True)"
   ]
  },
  {
   "cell_type": "code",
   "execution_count": 68,
   "metadata": {},
   "outputs": [],
   "source": [
    "# TPG.rename({'PTS': 'PPG'}, axis = 1, inplace = True)"
   ]
  },
  {
   "cell_type": "code",
   "execution_count": 69,
   "metadata": {},
   "outputs": [],
   "source": [
    "# TPG.columns"
   ]
  },
  {
   "cell_type": "code",
   "execution_count": 70,
   "metadata": {},
   "outputs": [],
   "source": [
    "# OPG"
   ]
  },
  {
   "cell_type": "code",
   "execution_count": 71,
   "metadata": {},
   "outputs": [],
   "source": [
    "# OPG.columns"
   ]
  },
  {
   "cell_type": "code",
   "execution_count": 72,
   "metadata": {},
   "outputs": [],
   "source": [
    "# OPG.drop(['Rk', 'G', 'MP', 'FG', 'FGA', 'FG%', '3PA', '2PA', 'FTA', 'TRB'], axis = 1, inplace = True)"
   ]
  },
  {
   "cell_type": "code",
   "execution_count": 73,
   "metadata": {},
   "outputs": [],
   "source": [
    "# OPG.rename({'PTS': 'PPG'}, axis = 1, inplace = True)"
   ]
  },
  {
   "cell_type": "code",
   "execution_count": 74,
   "metadata": {},
   "outputs": [],
   "source": [
    "# OPG.columns"
   ]
  },
  {
   "cell_type": "code",
   "execution_count": 75,
   "metadata": {},
   "outputs": [],
   "source": [
    "# OPG_rename = {'3P': 'O3P', '3P%': 'O3P%', '2P': 'O2P', '2P%': 'O2P%', 'FT': 'OFT',\n",
    "#               'FT%': 'OFT%', 'ORB': 'OORB', 'DRB': 'ODRB', 'AST': 'OAST',\n",
    "#               'STL': 'OSTL', 'BLK': 'OBLK', 'TOV': 'OTOV', 'PF': 'OPF', 'PPG': 'OPTS'}"
   ]
  },
  {
   "cell_type": "code",
   "execution_count": 76,
   "metadata": {},
   "outputs": [],
   "source": [
    "# OPG.rename(OPG_rename, axis = 1, inplace = True)"
   ]
  },
  {
   "cell_type": "code",
   "execution_count": 77,
   "metadata": {},
   "outputs": [],
   "source": [
    "# M"
   ]
  },
  {
   "cell_type": "code",
   "execution_count": 78,
   "metadata": {},
   "outputs": [],
   "source": [
    "# M.columns"
   ]
  },
  {
   "cell_type": "code",
   "execution_count": 79,
   "metadata": {},
   "outputs": [],
   "source": [
    "# M.drop(['Rk', 'Age', 'W', 'L', 'PW', 'PL', 'SOS', 'SRS', 'Arena', 'Attend.', 'Attend./G'], axis = 1, inplace = True)"
   ]
  },
  {
   "cell_type": "code",
   "execution_count": 80,
   "metadata": {},
   "outputs": [],
   "source": [
    "# rename_dict = {'eFG%.1': 'OeFG%', 'TOV%.1': 'OTOV%', 'FT/FGA.1': 'OFT/FGA'}\n",
    "# M.rename(rename_dict, axis = 1, inplace = True)"
   ]
  },
  {
   "cell_type": "code",
   "execution_count": 81,
   "metadata": {},
   "outputs": [],
   "source": [
    "# def fix_team_name(x):\n",
    "#     new_name = x.split(' ')\n",
    "#     if new_name[-1][-1] == \"*\":\n",
    "#         new_name[-1] = new_name[-1][:-1]\n",
    "#     return ' '.join(new_name)"
   ]
  },
  {
   "cell_type": "code",
   "execution_count": 82,
   "metadata": {},
   "outputs": [],
   "source": [
    "# new_df_list = [TPG, OPG, M]"
   ]
  },
  {
   "cell_type": "code",
   "execution_count": 83,
   "metadata": {},
   "outputs": [],
   "source": [
    "# for d in new_df_list:\n",
    "#     d['Team'] = d.apply(lambda row: fix_team_name(row['Team']), axis = 1)"
   ]
  },
  {
   "cell_type": "code",
   "execution_count": 84,
   "metadata": {},
   "outputs": [],
   "source": [
    "# def create_var(x, data, var):\n",
    "#     for i, r in data.iterrows():\n",
    "#         if r['Team'] == x:\n",
    "#             return r[var]"
   ]
  },
  {
   "cell_type": "code",
   "execution_count": 85,
   "metadata": {},
   "outputs": [],
   "source": [
    "# for d in new_df_list:\n",
    "#     for var in d.columns[1:]:\n",
    "#         df['Away_' + var] = df.apply(lambda row: create_var(row['Away'], d, var), axis = 1)\n",
    "#         df['Home_' + var] = df.apply(lambda row: create_var(row['Home'], d, var), axis = 1)"
   ]
  },
  {
   "cell_type": "code",
   "execution_count": 86,
   "metadata": {
    "scrolled": true
   },
   "outputs": [],
   "source": [
    "# df['Away_PTS'].value_counts()"
   ]
  },
  {
   "cell_type": "code",
   "execution_count": 87,
   "metadata": {},
   "outputs": [],
   "source": [
    "# df['Away_PTS']"
   ]
  },
  {
   "cell_type": "code",
   "execution_count": 88,
   "metadata": {},
   "outputs": [],
   "source": [
    "# df.to_csv('Final_Dataset_Complicated_Model.csv')"
   ]
  },
  {
   "cell_type": "markdown",
   "metadata": {},
   "source": [
    "## Second Train_Test Split"
   ]
  },
  {
   "cell_type": "code",
   "execution_count": 89,
   "metadata": {},
   "outputs": [],
   "source": [
    "df = pd.read_csv('Final_Dataset_Complicated_Model.csv', index_col = 0)"
   ]
  },
  {
   "cell_type": "code",
   "execution_count": 90,
   "metadata": {},
   "outputs": [
    {
     "data": {
      "text/html": [
       "<div>\n",
       "<style scoped>\n",
       "    .dataframe tbody tr th:only-of-type {\n",
       "        vertical-align: middle;\n",
       "    }\n",
       "\n",
       "    .dataframe tbody tr th {\n",
       "        vertical-align: top;\n",
       "    }\n",
       "\n",
       "    .dataframe thead th {\n",
       "        text-align: right;\n",
       "    }\n",
       "</style>\n",
       "<table border=\"1\" class=\"dataframe\">\n",
       "  <thead>\n",
       "    <tr style=\"text-align: right;\">\n",
       "      <th></th>\n",
       "      <th>Away</th>\n",
       "      <th>Away_PTS</th>\n",
       "      <th>Home</th>\n",
       "      <th>Home_PTS</th>\n",
       "      <th>Margin</th>\n",
       "      <th>Away_SRS</th>\n",
       "      <th>Home_SRS</th>\n",
       "      <th>Away_3P</th>\n",
       "      <th>Home_3P</th>\n",
       "      <th>Away_3P%</th>\n",
       "      <th>...</th>\n",
       "      <th>Away_FT/FGA</th>\n",
       "      <th>Home_FT/FGA</th>\n",
       "      <th>Away_OeFG%</th>\n",
       "      <th>Home_OeFG%</th>\n",
       "      <th>Away_OTOV%</th>\n",
       "      <th>Home_OTOV%</th>\n",
       "      <th>Away_DRB%</th>\n",
       "      <th>Home_DRB%</th>\n",
       "      <th>Away_OFT/FGA</th>\n",
       "      <th>Home_OFT/FGA</th>\n",
       "    </tr>\n",
       "  </thead>\n",
       "  <tbody>\n",
       "    <tr>\n",
       "      <td>0</td>\n",
       "      <td>New Orleans Pelicans</td>\n",
       "      <td>122</td>\n",
       "      <td>Toronto Raptors</td>\n",
       "      <td>130</td>\n",
       "      <td>-8</td>\n",
       "      <td>0.30</td>\n",
       "      <td>5.88</td>\n",
       "      <td>14.0</td>\n",
       "      <td>13.8</td>\n",
       "      <td>0.372</td>\n",
       "      <td>...</td>\n",
       "      <td>0.183</td>\n",
       "      <td>0.205</td>\n",
       "      <td>0.531</td>\n",
       "      <td>0.502</td>\n",
       "      <td>12.3</td>\n",
       "      <td>14.6</td>\n",
       "      <td>78.1</td>\n",
       "      <td>76.1</td>\n",
       "      <td>0.207</td>\n",
       "      <td>0.200</td>\n",
       "    </tr>\n",
       "    <tr>\n",
       "      <td>1</td>\n",
       "      <td>Los Angeles Lakers</td>\n",
       "      <td>102</td>\n",
       "      <td>Los Angeles Clippers</td>\n",
       "      <td>112</td>\n",
       "      <td>-10</td>\n",
       "      <td>7.75</td>\n",
       "      <td>6.74</td>\n",
       "      <td>11.2</td>\n",
       "      <td>12.2</td>\n",
       "      <td>0.355</td>\n",
       "      <td>...</td>\n",
       "      <td>0.196</td>\n",
       "      <td>0.232</td>\n",
       "      <td>0.509</td>\n",
       "      <td>0.503</td>\n",
       "      <td>13.8</td>\n",
       "      <td>12.3</td>\n",
       "      <td>78.4</td>\n",
       "      <td>77.3</td>\n",
       "      <td>0.202</td>\n",
       "      <td>0.210</td>\n",
       "    </tr>\n",
       "    <tr>\n",
       "      <td>2</td>\n",
       "      <td>Chicago Bulls</td>\n",
       "      <td>125</td>\n",
       "      <td>Charlotte Hornets</td>\n",
       "      <td>126</td>\n",
       "      <td>-1</td>\n",
       "      <td>-3.81</td>\n",
       "      <td>-6.88</td>\n",
       "      <td>12.2</td>\n",
       "      <td>12.1</td>\n",
       "      <td>0.348</td>\n",
       "      <td>...</td>\n",
       "      <td>0.175</td>\n",
       "      <td>0.188</td>\n",
       "      <td>0.546</td>\n",
       "      <td>0.546</td>\n",
       "      <td>16.3</td>\n",
       "      <td>13.1</td>\n",
       "      <td>75.6</td>\n",
       "      <td>74.4</td>\n",
       "      <td>0.239</td>\n",
       "      <td>0.159</td>\n",
       "    </tr>\n",
       "    <tr>\n",
       "      <td>3</td>\n",
       "      <td>Detroit Pistons</td>\n",
       "      <td>119</td>\n",
       "      <td>Indiana Pacers</td>\n",
       "      <td>110</td>\n",
       "      <td>9</td>\n",
       "      <td>-4.22</td>\n",
       "      <td>1.61</td>\n",
       "      <td>12.0</td>\n",
       "      <td>10.0</td>\n",
       "      <td>0.367</td>\n",
       "      <td>...</td>\n",
       "      <td>0.194</td>\n",
       "      <td>0.170</td>\n",
       "      <td>0.541</td>\n",
       "      <td>0.513</td>\n",
       "      <td>12.7</td>\n",
       "      <td>12.8</td>\n",
       "      <td>75.9</td>\n",
       "      <td>77.1</td>\n",
       "      <td>0.186</td>\n",
       "      <td>0.193</td>\n",
       "    </tr>\n",
       "    <tr>\n",
       "      <td>4</td>\n",
       "      <td>Cleveland Cavaliers</td>\n",
       "      <td>85</td>\n",
       "      <td>Orlando Magic</td>\n",
       "      <td>94</td>\n",
       "      <td>-9</td>\n",
       "      <td>-7.57</td>\n",
       "      <td>-0.85</td>\n",
       "      <td>11.2</td>\n",
       "      <td>10.9</td>\n",
       "      <td>0.351</td>\n",
       "      <td>...</td>\n",
       "      <td>0.172</td>\n",
       "      <td>0.191</td>\n",
       "      <td>0.560</td>\n",
       "      <td>0.535</td>\n",
       "      <td>11.7</td>\n",
       "      <td>13.5</td>\n",
       "      <td>77.4</td>\n",
       "      <td>79.0</td>\n",
       "      <td>0.164</td>\n",
       "      <td>0.170</td>\n",
       "    </tr>\n",
       "    <tr>\n",
       "      <td>...</td>\n",
       "      <td>...</td>\n",
       "      <td>...</td>\n",
       "      <td>...</td>\n",
       "      <td>...</td>\n",
       "      <td>...</td>\n",
       "      <td>...</td>\n",
       "      <td>...</td>\n",
       "      <td>...</td>\n",
       "      <td>...</td>\n",
       "      <td>...</td>\n",
       "      <td>...</td>\n",
       "      <td>...</td>\n",
       "      <td>...</td>\n",
       "      <td>...</td>\n",
       "      <td>...</td>\n",
       "      <td>...</td>\n",
       "      <td>...</td>\n",
       "      <td>...</td>\n",
       "      <td>...</td>\n",
       "      <td>...</td>\n",
       "      <td>...</td>\n",
       "    </tr>\n",
       "    <tr>\n",
       "      <td>966</td>\n",
       "      <td>Los Angeles Clippers</td>\n",
       "      <td>131</td>\n",
       "      <td>Golden State Warriors</td>\n",
       "      <td>107</td>\n",
       "      <td>24</td>\n",
       "      <td>6.74</td>\n",
       "      <td>-7.92</td>\n",
       "      <td>12.2</td>\n",
       "      <td>10.4</td>\n",
       "      <td>0.366</td>\n",
       "      <td>...</td>\n",
       "      <td>0.232</td>\n",
       "      <td>0.212</td>\n",
       "      <td>0.503</td>\n",
       "      <td>0.553</td>\n",
       "      <td>12.3</td>\n",
       "      <td>13.7</td>\n",
       "      <td>77.3</td>\n",
       "      <td>76.4</td>\n",
       "      <td>0.210</td>\n",
       "      <td>0.193</td>\n",
       "    </tr>\n",
       "    <tr>\n",
       "      <td>967</td>\n",
       "      <td>Detroit Pistons</td>\n",
       "      <td>106</td>\n",
       "      <td>Philadelphia 76ers</td>\n",
       "      <td>124</td>\n",
       "      <td>-18</td>\n",
       "      <td>-4.22</td>\n",
       "      <td>2.22</td>\n",
       "      <td>12.0</td>\n",
       "      <td>11.4</td>\n",
       "      <td>0.367</td>\n",
       "      <td>...</td>\n",
       "      <td>0.194</td>\n",
       "      <td>0.189</td>\n",
       "      <td>0.541</td>\n",
       "      <td>0.522</td>\n",
       "      <td>12.7</td>\n",
       "      <td>12.7</td>\n",
       "      <td>75.9</td>\n",
       "      <td>80.4</td>\n",
       "      <td>0.186</td>\n",
       "      <td>0.211</td>\n",
       "    </tr>\n",
       "    <tr>\n",
       "      <td>968</td>\n",
       "      <td>New York Knicks</td>\n",
       "      <td>136</td>\n",
       "      <td>Atlanta Hawks</td>\n",
       "      <td>131</td>\n",
       "      <td>5</td>\n",
       "      <td>-6.55</td>\n",
       "      <td>-7.57</td>\n",
       "      <td>9.6</td>\n",
       "      <td>12.0</td>\n",
       "      <td>0.337</td>\n",
       "      <td>...</td>\n",
       "      <td>0.182</td>\n",
       "      <td>0.204</td>\n",
       "      <td>0.541</td>\n",
       "      <td>0.543</td>\n",
       "      <td>12.4</td>\n",
       "      <td>12.7</td>\n",
       "      <td>78.3</td>\n",
       "      <td>74.9</td>\n",
       "      <td>0.224</td>\n",
       "      <td>0.233</td>\n",
       "    </tr>\n",
       "    <tr>\n",
       "      <td>969</td>\n",
       "      <td>Charlotte Hornets</td>\n",
       "      <td>109</td>\n",
       "      <td>Miami Heat</td>\n",
       "      <td>98</td>\n",
       "      <td>11</td>\n",
       "      <td>-6.88</td>\n",
       "      <td>2.58</td>\n",
       "      <td>12.1</td>\n",
       "      <td>13.4</td>\n",
       "      <td>0.352</td>\n",
       "      <td>...</td>\n",
       "      <td>0.188</td>\n",
       "      <td>0.231</td>\n",
       "      <td>0.546</td>\n",
       "      <td>0.522</td>\n",
       "      <td>13.1</td>\n",
       "      <td>12.3</td>\n",
       "      <td>74.4</td>\n",
       "      <td>79.7</td>\n",
       "      <td>0.159</td>\n",
       "      <td>0.208</td>\n",
       "    </tr>\n",
       "    <tr>\n",
       "      <td>970</td>\n",
       "      <td>Denver Nuggets</td>\n",
       "      <td>97</td>\n",
       "      <td>Dallas Mavericks</td>\n",
       "      <td>113</td>\n",
       "      <td>-16</td>\n",
       "      <td>3.02</td>\n",
       "      <td>5.84</td>\n",
       "      <td>10.9</td>\n",
       "      <td>15.3</td>\n",
       "      <td>0.358</td>\n",
       "      <td>...</td>\n",
       "      <td>0.178</td>\n",
       "      <td>0.198</td>\n",
       "      <td>0.526</td>\n",
       "      <td>0.519</td>\n",
       "      <td>13.0</td>\n",
       "      <td>10.9</td>\n",
       "      <td>77.0</td>\n",
       "      <td>77.4</td>\n",
       "      <td>0.194</td>\n",
       "      <td>0.172</td>\n",
       "    </tr>\n",
       "  </tbody>\n",
       "</table>\n",
       "<p>971 rows × 95 columns</p>\n",
       "</div>"
      ],
      "text/plain": [
       "                     Away  Away_PTS                   Home  Home_PTS  Margin  \\\n",
       "0    New Orleans Pelicans       122        Toronto Raptors       130      -8   \n",
       "1      Los Angeles Lakers       102   Los Angeles Clippers       112     -10   \n",
       "2           Chicago Bulls       125      Charlotte Hornets       126      -1   \n",
       "3         Detroit Pistons       119         Indiana Pacers       110       9   \n",
       "4     Cleveland Cavaliers        85          Orlando Magic        94      -9   \n",
       "..                    ...       ...                    ...       ...     ...   \n",
       "966  Los Angeles Clippers       131  Golden State Warriors       107      24   \n",
       "967       Detroit Pistons       106     Philadelphia 76ers       124     -18   \n",
       "968       New York Knicks       136          Atlanta Hawks       131       5   \n",
       "969     Charlotte Hornets       109             Miami Heat        98      11   \n",
       "970        Denver Nuggets        97       Dallas Mavericks       113     -16   \n",
       "\n",
       "     Away_SRS  Home_SRS  Away_3P  Home_3P  Away_3P%  ...  Away_FT/FGA  \\\n",
       "0        0.30      5.88     14.0     13.8     0.372  ...        0.183   \n",
       "1        7.75      6.74     11.2     12.2     0.355  ...        0.196   \n",
       "2       -3.81     -6.88     12.2     12.1     0.348  ...        0.175   \n",
       "3       -4.22      1.61     12.0     10.0     0.367  ...        0.194   \n",
       "4       -7.57     -0.85     11.2     10.9     0.351  ...        0.172   \n",
       "..        ...       ...      ...      ...       ...  ...          ...   \n",
       "966      6.74     -7.92     12.2     10.4     0.366  ...        0.232   \n",
       "967     -4.22      2.22     12.0     11.4     0.367  ...        0.194   \n",
       "968     -6.55     -7.57      9.6     12.0     0.337  ...        0.182   \n",
       "969     -6.88      2.58     12.1     13.4     0.352  ...        0.188   \n",
       "970      3.02      5.84     10.9     15.3     0.358  ...        0.178   \n",
       "\n",
       "     Home_FT/FGA  Away_OeFG%  Home_OeFG%  Away_OTOV%  Home_OTOV%  Away_DRB%  \\\n",
       "0          0.205       0.531       0.502        12.3        14.6       78.1   \n",
       "1          0.232       0.509       0.503        13.8        12.3       78.4   \n",
       "2          0.188       0.546       0.546        16.3        13.1       75.6   \n",
       "3          0.170       0.541       0.513        12.7        12.8       75.9   \n",
       "4          0.191       0.560       0.535        11.7        13.5       77.4   \n",
       "..           ...         ...         ...         ...         ...        ...   \n",
       "966        0.212       0.503       0.553        12.3        13.7       77.3   \n",
       "967        0.189       0.541       0.522        12.7        12.7       75.9   \n",
       "968        0.204       0.541       0.543        12.4        12.7       78.3   \n",
       "969        0.231       0.546       0.522        13.1        12.3       74.4   \n",
       "970        0.198       0.526       0.519        13.0        10.9       77.0   \n",
       "\n",
       "     Home_DRB%  Away_OFT/FGA  Home_OFT/FGA  \n",
       "0         76.1         0.207         0.200  \n",
       "1         77.3         0.202         0.210  \n",
       "2         74.4         0.239         0.159  \n",
       "3         77.1         0.186         0.193  \n",
       "4         79.0         0.164         0.170  \n",
       "..         ...           ...           ...  \n",
       "966       76.4         0.210         0.193  \n",
       "967       80.4         0.186         0.211  \n",
       "968       74.9         0.224         0.233  \n",
       "969       79.7         0.159         0.208  \n",
       "970       77.4         0.194         0.172  \n",
       "\n",
       "[971 rows x 95 columns]"
      ]
     },
     "execution_count": 90,
     "metadata": {},
     "output_type": "execute_result"
    }
   ],
   "source": [
    "df"
   ]
  },
  {
   "cell_type": "code",
   "execution_count": 91,
   "metadata": {},
   "outputs": [],
   "source": [
    "X = df.drop(['Away', 'Away_PTS', 'Home', 'Home_PTS', 'Margin'], axis = 1)\n",
    "y = df['Margin']"
   ]
  },
  {
   "cell_type": "code",
   "execution_count": 92,
   "metadata": {},
   "outputs": [],
   "source": [
    "X_train, X_test, y_train, y_test = train_test_split(X, y, test_size=0.25, random_state=23)"
   ]
  },
  {
   "cell_type": "code",
   "execution_count": 93,
   "metadata": {},
   "outputs": [],
   "source": [
    "train = pd.concat([X_train, y_train], axis=1)\n",
    "target = 'Margin'\n",
    "predictors = [x for x in train.columns if x not in [target]]"
   ]
  },
  {
   "cell_type": "markdown",
   "metadata": {},
   "source": [
    "## Second Linear Model"
   ]
  },
  {
   "cell_type": "code",
   "execution_count": 94,
   "metadata": {},
   "outputs": [
    {
     "name": "stdout",
     "output_type": "stream",
     "text": [
      "12.57741204398901\n"
     ]
    }
   ],
   "source": [
    "reg = LinearRegression().fit(X_train, y_train)\n",
    "lin_preds = reg.predict(X_test)\n",
    "print(np.sqrt(metrics.mean_squared_error(y_test, lin_preds)))"
   ]
  },
  {
   "cell_type": "markdown",
   "metadata": {},
   "source": [
    "## Second RF Regressor"
   ]
  },
  {
   "cell_type": "code",
   "execution_count": 95,
   "metadata": {},
   "outputs": [],
   "source": [
    "# rf = RandomForestRegressor()"
   ]
  },
  {
   "cell_type": "markdown",
   "metadata": {},
   "source": [
    "### First GSearch "
   ]
  },
  {
   "cell_type": "code",
   "execution_count": 96,
   "metadata": {},
   "outputs": [],
   "source": [
    "# param_dist = {'n_estimators': [100, 300, 500],\n",
    "#               'max_features': ['auto', 'sqrt'],\n",
    "#               'max_depth' : [4,5,6],\n",
    "#               'min_samples_leaf': [1, 2, 4],\n",
    "#               'min_samples_split' : [2, 5, 10],\n",
    "#               'bootstrap' : [True, False]\n",
    "#              }"
   ]
  },
  {
   "cell_type": "code",
   "execution_count": 97,
   "metadata": {},
   "outputs": [],
   "source": [
    "# gsearch = GridSearchCV(\n",
    "#     estimator = rf,\n",
    "#     param_grid = param_dist, \n",
    "#     n_jobs=-1,\n",
    "#     verbose=1,\n",
    "#     iid=False, \n",
    "#     cv=5)"
   ]
  },
  {
   "cell_type": "code",
   "execution_count": 98,
   "metadata": {},
   "outputs": [],
   "source": [
    "# gsearch.fit(train[predictors],train[target])"
   ]
  },
  {
   "cell_type": "code",
   "execution_count": 99,
   "metadata": {},
   "outputs": [],
   "source": [
    "# rf_preds = gsearch.best_estimator_.predict(X_test)\n",
    "# print(np.sqrt(metrics.mean_squared_error(y_test, rf_preds)))"
   ]
  },
  {
   "cell_type": "code",
   "execution_count": 100,
   "metadata": {},
   "outputs": [],
   "source": [
    "# gsearch.best_params_"
   ]
  },
  {
   "cell_type": "markdown",
   "metadata": {},
   "source": [
    "### Second GSearch"
   ]
  },
  {
   "cell_type": "code",
   "execution_count": 101,
   "metadata": {},
   "outputs": [],
   "source": [
    "# param_dist = {'n_estimators': [400, 500, 600],\n",
    "#               'max_features': ['sqrt'],\n",
    "#               'max_depth' : [3,4],\n",
    "#               'min_samples_leaf': [4, 5],\n",
    "#               'min_samples_split' : [2, 3, 4],\n",
    "#               'bootstrap' : [True]\n",
    "#              }"
   ]
  },
  {
   "cell_type": "code",
   "execution_count": 102,
   "metadata": {},
   "outputs": [],
   "source": [
    "# gsearch = GridSearchCV(\n",
    "#     estimator = rf,\n",
    "#     param_grid = param_dist, \n",
    "#     n_jobs=-1,\n",
    "#     verbose=1,\n",
    "#     iid=False, \n",
    "#     cv=5)"
   ]
  },
  {
   "cell_type": "code",
   "execution_count": 103,
   "metadata": {},
   "outputs": [],
   "source": [
    "# gsearch.fit(train[predictors],train[target])"
   ]
  },
  {
   "cell_type": "code",
   "execution_count": 104,
   "metadata": {},
   "outputs": [],
   "source": [
    "# rf_preds = gsearch.best_estimator_.predict(X_test)\n",
    "# print(np.sqrt(metrics.mean_squared_error(y_test, rf_preds)))"
   ]
  },
  {
   "cell_type": "code",
   "execution_count": 105,
   "metadata": {
    "scrolled": false
   },
   "outputs": [],
   "source": [
    "# gsearch.best_params_"
   ]
  },
  {
   "cell_type": "markdown",
   "metadata": {},
   "source": [
    "### Third GSearch"
   ]
  },
  {
   "cell_type": "code",
   "execution_count": 106,
   "metadata": {},
   "outputs": [],
   "source": [
    "# param_dist = {'n_estimators': [500],\n",
    "#               'max_features': ['sqrt'],\n",
    "#               'max_depth' : [1, 2, 3],\n",
    "#               'min_samples_leaf': [5, 6, 7, 8, 9, 10, 11, 12],\n",
    "#               'min_samples_split' : [3],\n",
    "#               'bootstrap' : [True]\n",
    "#              }"
   ]
  },
  {
   "cell_type": "code",
   "execution_count": 107,
   "metadata": {},
   "outputs": [],
   "source": [
    "# gsearch = GridSearchCV(\n",
    "#     estimator = rf,\n",
    "#     param_grid = param_dist, \n",
    "#     n_jobs=-1,\n",
    "#     verbose=1,\n",
    "#     iid=False, \n",
    "#     cv=5)"
   ]
  },
  {
   "cell_type": "code",
   "execution_count": 108,
   "metadata": {},
   "outputs": [],
   "source": [
    "# gsearch.fit(train[predictors],train[target])"
   ]
  },
  {
   "cell_type": "code",
   "execution_count": 109,
   "metadata": {},
   "outputs": [],
   "source": [
    "# rf_preds = gsearch.best_estimator_.predict(X_test)\n",
    "# print(np.sqrt(metrics.mean_squared_error(y_test, rf_preds)))"
   ]
  },
  {
   "cell_type": "code",
   "execution_count": 110,
   "metadata": {
    "scrolled": true
   },
   "outputs": [],
   "source": [
    "# gsearch.best_params_"
   ]
  },
  {
   "cell_type": "code",
   "execution_count": 111,
   "metadata": {},
   "outputs": [],
   "source": [
    "# rf2 = 'rf2.sav'\n",
    "# pickle.dump(gsearch, open(rf2, 'wb'))"
   ]
  },
  {
   "cell_type": "code",
   "execution_count": 112,
   "metadata": {},
   "outputs": [],
   "source": [
    "rf2 = 'rf2.sav'\n",
    "rf2_model = pickle.load(open(rf2, 'rb'))"
   ]
  },
  {
   "cell_type": "code",
   "execution_count": 113,
   "metadata": {},
   "outputs": [
    {
     "name": "stdout",
     "output_type": "stream",
     "text": [
      "12.181753840874814\n"
     ]
    }
   ],
   "source": [
    "rf2_preds = rf2_model.predict(X_test)\n",
    "print(np.sqrt(metrics.mean_squared_error(y_test, rf2_preds)))"
   ]
  },
  {
   "cell_type": "markdown",
   "metadata": {},
   "source": [
    "## Second xgBoost"
   ]
  },
  {
   "cell_type": "code",
   "execution_count": 114,
   "metadata": {},
   "outputs": [],
   "source": [
    "# xgb = xgb.XGBRegressor()"
   ]
  },
  {
   "cell_type": "markdown",
   "metadata": {},
   "source": [
    "### First GridSearch"
   ]
  },
  {
   "cell_type": "code",
   "execution_count": 115,
   "metadata": {},
   "outputs": [],
   "source": [
    "# param_dist = {'n_estimators': [100, 500, 900],\n",
    "#               'learning_rate': [.001, .01, .1],\n",
    "#               'max_depth': [2, 3, 4],\n",
    "#               'colsample_bytree': [.8, .9],\n",
    "#               'min_child_weight': [2, 3, 4]\n",
    "#              }"
   ]
  },
  {
   "cell_type": "code",
   "execution_count": 116,
   "metadata": {},
   "outputs": [],
   "source": [
    "# gsearch = GridSearchCV(\n",
    "#     estimator = xgb,\n",
    "#     param_grid = param_dist, \n",
    "#     n_jobs=-1,\n",
    "#     verbose=1,\n",
    "#     iid=False, \n",
    "#     cv=5)"
   ]
  },
  {
   "cell_type": "code",
   "execution_count": 117,
   "metadata": {},
   "outputs": [],
   "source": [
    "# gsearch.fit(train[predictors],train[target])"
   ]
  },
  {
   "cell_type": "code",
   "execution_count": 118,
   "metadata": {},
   "outputs": [],
   "source": [
    "# xgb_preds = gsearch.best_estimator_.predict(X_test)\n",
    "# print(np.sqrt(metrics.mean_squared_error(y_test, xgb_preds)))"
   ]
  },
  {
   "cell_type": "code",
   "execution_count": 119,
   "metadata": {
    "scrolled": true
   },
   "outputs": [],
   "source": [
    "# gsearch.best_params_"
   ]
  },
  {
   "cell_type": "markdown",
   "metadata": {},
   "source": [
    "### Second GSearch"
   ]
  },
  {
   "cell_type": "code",
   "execution_count": 120,
   "metadata": {},
   "outputs": [],
   "source": [
    "# param_dist = {'n_estimators': [400, 500, 600],\n",
    "#               'learning_rate': [.01, .03, .05],\n",
    "#               'max_depth': [1, 2],\n",
    "#               'colsample_bytree': [.6, .7, .8],\n",
    "#               'min_child_weight': [1, 2]\n",
    "#              }"
   ]
  },
  {
   "cell_type": "code",
   "execution_count": 121,
   "metadata": {},
   "outputs": [],
   "source": [
    "# gsearch = GridSearchCV(\n",
    "#     estimator = xgb,\n",
    "#     param_grid = param_dist, \n",
    "#     n_jobs=-1,\n",
    "#     verbose=1,\n",
    "#     iid=False, \n",
    "#     cv=5)"
   ]
  },
  {
   "cell_type": "code",
   "execution_count": 122,
   "metadata": {
    "scrolled": true
   },
   "outputs": [],
   "source": [
    "# gsearch.fit(train[predictors],train[target])"
   ]
  },
  {
   "cell_type": "code",
   "execution_count": 123,
   "metadata": {},
   "outputs": [],
   "source": [
    "# xgb_preds = gsearch.best_estimator_.predict(X_test)\n",
    "# print(np.sqrt(metrics.mean_squared_error(y_test, xgb_preds)))"
   ]
  },
  {
   "cell_type": "code",
   "execution_count": 124,
   "metadata": {},
   "outputs": [],
   "source": [
    "# gsearch.best_params_"
   ]
  },
  {
   "cell_type": "markdown",
   "metadata": {},
   "source": [
    "### Third GSearch"
   ]
  },
  {
   "cell_type": "code",
   "execution_count": 125,
   "metadata": {},
   "outputs": [],
   "source": [
    "# param_dist = {'n_estimators': [600, 700, 800],\n",
    "#               'learning_rate': [.005, .01],\n",
    "#               'max_depth': [1],\n",
    "#               'colsample_bytree': [.1, .2, .3, .4, .5, .6],\n",
    "#               'min_child_weight': [1]\n",
    "#              }"
   ]
  },
  {
   "cell_type": "code",
   "execution_count": 126,
   "metadata": {},
   "outputs": [],
   "source": [
    "# gsearch = GridSearchCV(\n",
    "#     estimator = xgb,\n",
    "#     param_grid = param_dist, \n",
    "#     n_jobs=-1,\n",
    "#     verbose=1,\n",
    "#     iid=False, \n",
    "#     cv=5)"
   ]
  },
  {
   "cell_type": "code",
   "execution_count": 127,
   "metadata": {},
   "outputs": [],
   "source": [
    "# gsearch.fit(train[predictors],train[target])"
   ]
  },
  {
   "cell_type": "code",
   "execution_count": 128,
   "metadata": {},
   "outputs": [],
   "source": [
    "# xgb_preds = gsearch.best_estimator_.predict(X_test)\n",
    "# print(np.sqrt(metrics.mean_squared_error(y_test, xgb_preds)))"
   ]
  },
  {
   "cell_type": "code",
   "execution_count": 129,
   "metadata": {},
   "outputs": [],
   "source": [
    "# gsearch.best_params_"
   ]
  },
  {
   "cell_type": "code",
   "execution_count": 130,
   "metadata": {},
   "outputs": [],
   "source": [
    "# xgb2 = 'xgb2.sav'\n",
    "# pickle.dump(gsearch, open(xgb2, 'wb'))"
   ]
  },
  {
   "cell_type": "code",
   "execution_count": 131,
   "metadata": {},
   "outputs": [
    {
     "name": "stdout",
     "output_type": "stream",
     "text": [
      "[16:20:59] WARNING: src/objective/regression_obj.cu:152: reg:linear is now deprecated in favor of reg:squarederror.\n"
     ]
    }
   ],
   "source": [
    "xgb2 = 'xgb2.sav'\n",
    "xgb2_model = pickle.load(open(xgb2, 'rb'))"
   ]
  },
  {
   "cell_type": "code",
   "execution_count": 132,
   "metadata": {},
   "outputs": [
    {
     "name": "stdout",
     "output_type": "stream",
     "text": [
      "12.164241939356986\n"
     ]
    }
   ],
   "source": [
    "xgb2_preds = xgb2_model.predict(X_test)\n",
    "print(np.sqrt(metrics.mean_squared_error(y_test, xgb2_preds)))"
   ]
  },
  {
   "cell_type": "markdown",
   "metadata": {},
   "source": [
    "# Feature Engineering and Selection"
   ]
  },
  {
   "cell_type": "code",
   "execution_count": 133,
   "metadata": {},
   "outputs": [
    {
     "data": {
      "text/plain": [
       "Index(['Away', 'Away_PTS', 'Home', 'Home_PTS', 'Margin', 'Away_SRS',\n",
       "       'Home_SRS', 'Away_3P', 'Home_3P', 'Away_3P%', 'Home_3P%', 'Away_2P',\n",
       "       'Home_2P', 'Away_2P%', 'Home_2P%', 'Away_FT', 'Home_FT', 'Away_FT%',\n",
       "       'Home_FT%', 'Away_ORB', 'Home_ORB', 'Away_DRB', 'Home_DRB', 'Away_AST',\n",
       "       'Home_AST', 'Away_STL', 'Home_STL', 'Away_BLK', 'Home_BLK', 'Away_TOV',\n",
       "       'Home_TOV', 'Away_PF', 'Home_PF', 'Away_PPG', 'Home_PPG', 'Away_O3P',\n",
       "       'Home_O3P', 'Away_O3P%', 'Home_O3P%', 'Away_O2P', 'Home_O2P',\n",
       "       'Away_O2P%', 'Home_O2P%', 'Away_OFT', 'Home_OFT', 'Away_OFT%',\n",
       "       'Home_OFT%', 'Away_OORB', 'Home_OORB', 'Away_ODRB', 'Home_ODRB',\n",
       "       'Away_OAST', 'Home_OAST', 'Away_OSTL', 'Home_OSTL', 'Away_OBLK',\n",
       "       'Home_OBLK', 'Away_OTOV', 'Home_OTOV', 'Away_OPF', 'Home_OPF',\n",
       "       'Away_OPTS', 'Home_OPTS', 'Away_MOV', 'Home_MOV', 'Away_ORtg',\n",
       "       'Home_ORtg', 'Away_DRtg', 'Home_DRtg', 'Away_NRtg', 'Home_NRtg',\n",
       "       'Away_Pace', 'Home_Pace', 'Away_FTr', 'Home_FTr', 'Away_3PAr',\n",
       "       'Home_3PAr', 'Away_TS%', 'Home_TS%', 'Away_eFG%', 'Home_eFG%',\n",
       "       'Away_TOV%', 'Home_TOV%', 'Away_ORB%', 'Home_ORB%', 'Away_FT/FGA',\n",
       "       'Home_FT/FGA', 'Away_OeFG%', 'Home_OeFG%', 'Away_OTOV%', 'Home_OTOV%',\n",
       "       'Away_DRB%', 'Home_DRB%', 'Away_OFT/FGA', 'Home_OFT/FGA'],\n",
       "      dtype='object')"
      ]
     },
     "execution_count": 133,
     "metadata": {},
     "output_type": "execute_result"
    }
   ],
   "source": [
    "df.columns"
   ]
  },
  {
   "cell_type": "code",
   "execution_count": 137,
   "metadata": {},
   "outputs": [
    {
     "name": "stdout",
     "output_type": "stream",
     "text": [
      "Away_SRS\n",
      "Home_SRS\n",
      "Away_MOV\n",
      "Home_MOV\n",
      "Home_ORtg\n",
      "Home_DRtg\n",
      "Away_NRtg\n",
      "Home_NRtg\n",
      "Home_TS%\n",
      "Home_eFG%\n",
      "Home_OeFG%\n",
      "SRS_diff\n",
      "MOV_diff\n"
     ]
    }
   ],
   "source": [
    "for col in df.columns[5:]:\n",
    "    if abs(stats.pearsonr(df[col], df['Margin'])[0]) > .3:\n",
    "        print(col)"
   ]
  },
  {
   "cell_type": "code",
   "execution_count": 135,
   "metadata": {},
   "outputs": [],
   "source": [
    "df['SRS_diff'] = df['Away_SRS'] - df['Home_SRS']"
   ]
  },
  {
   "cell_type": "code",
   "execution_count": 136,
   "metadata": {},
   "outputs": [],
   "source": [
    "df['MOV_diff'] = df['Away_MOV'] - df['Home_MOV']"
   ]
  },
  {
   "cell_type": "code",
   "execution_count": 138,
   "metadata": {},
   "outputs": [],
   "source": [
    "df['NRtg_diff'] = df['Away_NRtg'] - df['Home_NRtg']"
   ]
  },
  {
   "cell_type": "markdown",
   "metadata": {},
   "source": [
    "# Feature Selected Models"
   ]
  },
  {
   "cell_type": "markdown",
   "metadata": {},
   "source": [
    "## Third Train-Test Split"
   ]
  },
  {
   "cell_type": "code",
   "execution_count": 172,
   "metadata": {},
   "outputs": [],
   "source": [
    "X = df[['SRS_diff', 'MOV_diff', 'NRtg_diff']]\n",
    "y = df['Margin']"
   ]
  },
  {
   "cell_type": "code",
   "execution_count": 173,
   "metadata": {},
   "outputs": [],
   "source": [
    "X_train, X_test, y_train, y_test = train_test_split(X, y, test_size=0.25, random_state=23)"
   ]
  },
  {
   "cell_type": "code",
   "execution_count": 174,
   "metadata": {},
   "outputs": [],
   "source": [
    "train = pd.concat([X_train, y_train], axis=1)\n",
    "target = 'Margin'\n",
    "predictors = [x for x in train.columns if x not in [target]]"
   ]
  },
  {
   "cell_type": "markdown",
   "metadata": {},
   "source": [
    "## Third Linear Model"
   ]
  },
  {
   "cell_type": "code",
   "execution_count": 175,
   "metadata": {},
   "outputs": [
    {
     "name": "stdout",
     "output_type": "stream",
     "text": [
      "11.987107756039173\n"
     ]
    }
   ],
   "source": [
    "reg = LinearRegression().fit(X_train, y_train)\n",
    "lin_preds = reg.predict(X_test)\n",
    "print(np.sqrt(metrics.mean_squared_error(y_test, lin_preds)))"
   ]
  },
  {
   "cell_type": "markdown",
   "metadata": {},
   "source": [
    "## Third RF Regressor"
   ]
  },
  {
   "cell_type": "code",
   "execution_count": 146,
   "metadata": {},
   "outputs": [],
   "source": [
    "# rf = RandomForestRegressor()"
   ]
  },
  {
   "cell_type": "markdown",
   "metadata": {},
   "source": [
    "### First GSearch "
   ]
  },
  {
   "cell_type": "code",
   "execution_count": 147,
   "metadata": {},
   "outputs": [],
   "source": [
    "# param_dist = {'n_estimators': [100, 200, 300, 400, 500],\n",
    "#               'max_features': ['auto', 'sqrt'],\n",
    "#               'max_depth' : [3, 4, 5, 6],\n",
    "#               'min_samples_leaf': [1, 2, 3, 4],\n",
    "#               'min_samples_split' : [2, 5, 10],\n",
    "#               'bootstrap' : [True, False]\n",
    "#              }"
   ]
  },
  {
   "cell_type": "code",
   "execution_count": 148,
   "metadata": {},
   "outputs": [],
   "source": [
    "# gsearch = GridSearchCV(\n",
    "#     estimator = rf,\n",
    "#     param_grid = param_dist, \n",
    "#     n_jobs=-1,\n",
    "#     verbose=1,\n",
    "#     iid=False, \n",
    "#     cv=5)"
   ]
  },
  {
   "cell_type": "code",
   "execution_count": 149,
   "metadata": {},
   "outputs": [
    {
     "name": "stdout",
     "output_type": "stream",
     "text": [
      "Fitting 5 folds for each of 960 candidates, totalling 4800 fits\n"
     ]
    },
    {
     "name": "stderr",
     "output_type": "stream",
     "text": [
      "[Parallel(n_jobs=-1)]: Using backend LokyBackend with 8 concurrent workers.\n",
      "[Parallel(n_jobs=-1)]: Done  34 tasks      | elapsed:    4.4s\n",
      "[Parallel(n_jobs=-1)]: Done 184 tasks      | elapsed:   15.4s\n",
      "[Parallel(n_jobs=-1)]: Done 434 tasks      | elapsed:   34.5s\n",
      "[Parallel(n_jobs=-1)]: Done 784 tasks      | elapsed:  1.0min\n",
      "[Parallel(n_jobs=-1)]: Done 1234 tasks      | elapsed:  1.5min\n",
      "[Parallel(n_jobs=-1)]: Done 1784 tasks      | elapsed:  2.2min\n",
      "[Parallel(n_jobs=-1)]: Done 2434 tasks      | elapsed:  3.1min\n",
      "[Parallel(n_jobs=-1)]: Done 3184 tasks      | elapsed:  4.1min\n",
      "[Parallel(n_jobs=-1)]: Done 4034 tasks      | elapsed:  5.3min\n",
      "[Parallel(n_jobs=-1)]: Done 4800 out of 4800 | elapsed:  6.5min finished\n"
     ]
    },
    {
     "data": {
      "text/plain": [
       "GridSearchCV(cv=5, error_score='raise-deprecating',\n",
       "             estimator=RandomForestRegressor(bootstrap=True, criterion='mse',\n",
       "                                             max_depth=None,\n",
       "                                             max_features='auto',\n",
       "                                             max_leaf_nodes=None,\n",
       "                                             min_impurity_decrease=0.0,\n",
       "                                             min_impurity_split=None,\n",
       "                                             min_samples_leaf=1,\n",
       "                                             min_samples_split=2,\n",
       "                                             min_weight_fraction_leaf=0.0,\n",
       "                                             n_estimators='warn', n_jobs=None,\n",
       "                                             oob_score=False, random_state=None,\n",
       "                                             verbose=0, warm_start=False),\n",
       "             iid=False, n_jobs=-1,\n",
       "             param_grid={'bootstrap': [True, False], 'max_depth': [3, 4, 5, 6],\n",
       "                         'max_features': ['auto', 'sqrt'],\n",
       "                         'min_samples_leaf': [1, 2, 3, 4],\n",
       "                         'min_samples_split': [2, 5, 10],\n",
       "                         'n_estimators': [100, 200, 300, 400, 500]},\n",
       "             pre_dispatch='2*n_jobs', refit=True, return_train_score=False,\n",
       "             scoring=None, verbose=1)"
      ]
     },
     "execution_count": 149,
     "metadata": {},
     "output_type": "execute_result"
    }
   ],
   "source": [
    "# gsearch.fit(train[predictors],train[target])"
   ]
  },
  {
   "cell_type": "code",
   "execution_count": 150,
   "metadata": {},
   "outputs": [
    {
     "name": "stdout",
     "output_type": "stream",
     "text": [
      "12.224106360716563\n"
     ]
    }
   ],
   "source": [
    "# rf_preds = gsearch.best_estimator_.predict(X_test)\n",
    "# print(np.sqrt(metrics.mean_squared_error(y_test, rf_preds)))"
   ]
  },
  {
   "cell_type": "code",
   "execution_count": 151,
   "metadata": {},
   "outputs": [
    {
     "data": {
      "text/plain": [
       "{'bootstrap': True,\n",
       " 'max_depth': 3,\n",
       " 'max_features': 'sqrt',\n",
       " 'min_samples_leaf': 1,\n",
       " 'min_samples_split': 2,\n",
       " 'n_estimators': 400}"
      ]
     },
     "execution_count": 151,
     "metadata": {},
     "output_type": "execute_result"
    }
   ],
   "source": [
    "# gsearch.best_params_"
   ]
  },
  {
   "cell_type": "markdown",
   "metadata": {},
   "source": [
    "### Second GSearch "
   ]
  },
  {
   "cell_type": "code",
   "execution_count": 184,
   "metadata": {},
   "outputs": [],
   "source": [
    "# param_dist = {'n_estimators': [400],\n",
    "#               'max_features': ['sqrt'],\n",
    "#               'max_depth' : [1, 2, 3],\n",
    "#               'min_samples_leaf': [1],\n",
    "#               'min_samples_split' : [2, 3, 4],\n",
    "#               'bootstrap' : [True]\n",
    "#              }"
   ]
  },
  {
   "cell_type": "code",
   "execution_count": 185,
   "metadata": {},
   "outputs": [],
   "source": [
    "# gsearch = GridSearchCV(\n",
    "#     estimator = rf,\n",
    "#     param_grid = param_dist, \n",
    "#     n_jobs=-1,\n",
    "#     verbose=1,\n",
    "#     iid=False, \n",
    "#     cv=5)"
   ]
  },
  {
   "cell_type": "code",
   "execution_count": 186,
   "metadata": {},
   "outputs": [
    {
     "name": "stdout",
     "output_type": "stream",
     "text": [
      "Fitting 5 folds for each of 9 candidates, totalling 45 fits\n"
     ]
    },
    {
     "name": "stderr",
     "output_type": "stream",
     "text": [
      "[Parallel(n_jobs=-1)]: Using backend LokyBackend with 8 concurrent workers.\n",
      "[Parallel(n_jobs=-1)]: Done  45 out of  45 | elapsed:    3.3s finished\n"
     ]
    },
    {
     "data": {
      "text/plain": [
       "GridSearchCV(cv=5, error_score='raise-deprecating',\n",
       "             estimator=RandomForestRegressor(bootstrap=True, criterion='mse',\n",
       "                                             max_depth=None,\n",
       "                                             max_features='auto',\n",
       "                                             max_leaf_nodes=None,\n",
       "                                             min_impurity_decrease=0.0,\n",
       "                                             min_impurity_split=None,\n",
       "                                             min_samples_leaf=1,\n",
       "                                             min_samples_split=2,\n",
       "                                             min_weight_fraction_leaf=0.0,\n",
       "                                             n_estimators='warn', n_jobs=None,\n",
       "                                             oob_score=False, random_state=None,\n",
       "                                             verbose=0, warm_start=False),\n",
       "             iid=False, n_jobs=-1,\n",
       "             param_grid={'bootstrap': [True], 'max_depth': [1, 2, 3],\n",
       "                         'max_features': ['sqrt'], 'min_samples_leaf': [1],\n",
       "                         'min_samples_split': [2, 3, 4],\n",
       "                         'n_estimators': [400]},\n",
       "             pre_dispatch='2*n_jobs', refit=True, return_train_score=False,\n",
       "             scoring=None, verbose=1)"
      ]
     },
     "execution_count": 186,
     "metadata": {},
     "output_type": "execute_result"
    }
   ],
   "source": [
    "# gsearch.fit(train[predictors],train[target])"
   ]
  },
  {
   "cell_type": "code",
   "execution_count": 187,
   "metadata": {},
   "outputs": [
    {
     "name": "stdout",
     "output_type": "stream",
     "text": [
      "12.251030810275065\n"
     ]
    }
   ],
   "source": [
    "# rf_preds = gsearch.best_estimator_.predict(X_test)\n",
    "# print(np.sqrt(metrics.mean_squared_error(y_test, rf_preds)))"
   ]
  },
  {
   "cell_type": "code",
   "execution_count": 188,
   "metadata": {},
   "outputs": [
    {
     "data": {
      "text/plain": [
       "{'bootstrap': True,\n",
       " 'max_depth': 2,\n",
       " 'max_features': 'sqrt',\n",
       " 'min_samples_leaf': 1,\n",
       " 'min_samples_split': 2,\n",
       " 'n_estimators': 400}"
      ]
     },
     "execution_count": 188,
     "metadata": {},
     "output_type": "execute_result"
    }
   ],
   "source": [
    "# gsearch.best_params_"
   ]
  },
  {
   "cell_type": "code",
   "execution_count": 189,
   "metadata": {},
   "outputs": [],
   "source": [
    "# rf3 = 'rf3.sav'\n",
    "# pickle.dump(gsearch, open(rf3, 'wb'))"
   ]
  },
  {
   "cell_type": "code",
   "execution_count": 190,
   "metadata": {},
   "outputs": [],
   "source": [
    "rf3 = 'rf3.sav'\n",
    "rf3_model = pickle.load(open(rf3, 'rb'))"
   ]
  },
  {
   "cell_type": "code",
   "execution_count": 191,
   "metadata": {},
   "outputs": [
    {
     "name": "stdout",
     "output_type": "stream",
     "text": [
      "12.251030810275065\n"
     ]
    }
   ],
   "source": [
    "rf3_preds = rf3_model.predict(X_test)\n",
    "print(np.sqrt(metrics.mean_squared_error(y_test, rf3_preds)))"
   ]
  },
  {
   "cell_type": "markdown",
   "metadata": {},
   "source": []
  }
 ],
 "metadata": {
  "kernelspec": {
   "display_name": "Python 3",
   "language": "python",
   "name": "python3"
  },
  "language_info": {
   "codemirror_mode": {
    "name": "ipython",
    "version": 3
   },
   "file_extension": ".py",
   "mimetype": "text/x-python",
   "name": "python",
   "nbconvert_exporter": "python",
   "pygments_lexer": "ipython3",
   "version": "3.6.9"
  },
  "toc": {
   "base_numbering": 1,
   "nav_menu": {},
   "number_sections": true,
   "sideBar": true,
   "skip_h1_title": false,
   "title_cell": "Table of Contents",
   "title_sidebar": "Contents",
   "toc_cell": false,
   "toc_position": {},
   "toc_section_display": true,
   "toc_window_display": true
  },
  "varInspector": {
   "cols": {
    "lenName": 16,
    "lenType": 16,
    "lenVar": 40
   },
   "kernels_config": {
    "python": {
     "delete_cmd_postfix": "",
     "delete_cmd_prefix": "del ",
     "library": "var_list.py",
     "varRefreshCmd": "print(var_dic_list())"
    },
    "r": {
     "delete_cmd_postfix": ") ",
     "delete_cmd_prefix": "rm(",
     "library": "var_list.r",
     "varRefreshCmd": "cat(var_dic_list()) "
    }
   },
   "types_to_exclude": [
    "module",
    "function",
    "builtin_function_or_method",
    "instance",
    "_Feature"
   ],
   "window_display": false
  }
 },
 "nbformat": 4,
 "nbformat_minor": 2
}
